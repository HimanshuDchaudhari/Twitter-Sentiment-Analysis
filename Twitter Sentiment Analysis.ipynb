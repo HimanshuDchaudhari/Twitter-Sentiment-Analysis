{
 "cells": [
  {
   "cell_type": "markdown",
   "metadata": {},
   "source": [
    "# Twitter Sentiment Analysis"
   ]
  },
  {
   "cell_type": "code",
   "execution_count": 1,
   "metadata": {},
   "outputs": [],
   "source": [
    "#importing required packages"
   ]
  },
  {
   "cell_type": "code",
   "execution_count": 2,
   "metadata": {},
   "outputs": [],
   "source": [
    "import pandas as pd\n",
    "import numpy as np\n",
    "import tweepy\n",
    "from tweepy import OAuthHandler"
   ]
  },
  {
   "cell_type": "raw",
   "metadata": {},
   "source": [
    "Enter your customer key and customer_secrete key as well as access_token and access_secrete_token from https://developer.twitter.com/ portal "
   ]
  },
  {
   "cell_type": "code",
   "execution_count": 3,
   "metadata": {},
   "outputs": [],
   "source": [
    "customer_key = 'Enter your customer key'\n",
    "customer_secret_key = 'customer secret key'\n",
    "access_token = 'access token'\n",
    "access_secret_token = 'access secret token'"
   ]
  },
  {
   "cell_type": "code",
   "execution_count": 4,
   "metadata": {},
   "outputs": [],
   "source": [
    "auth = OAuthHandler(customer_key,customer_secret_key)\n",
    "auth.set_access_token(access_token,access_secret_token)\n",
    "api = tweepy.API(auth)\n",
    "# for more detail about tweepy go through\n",
    "# http://docs.tweepy.org/en/latest/getting_started.html"
   ]
  },
  {
   "cell_type": "code",
   "execution_count": 5,
   "metadata": {},
   "outputs": [
    {
     "name": "stdout",
     "output_type": "stream",
     "text": [
      "Status(_api=<tweepy.api.API object at 0x000001D8F022FF08>, _json={'created_at': 'Fri Nov 06 17:51:11 +0000 2020', 'id': 1324771326125510657, 'id_str': '1324771326125510657', 'full_text': 'Seriously this time #IPL is shit, @RCBTweets lose wining match today... dont understand how can #Saini deliver 2 same balls where no field setup... !!! \\nRidiculous first #CSK out and now #RCB... now big C category #MI will win', 'truncated': False, 'display_text_range': [0, 226], 'entities': {'hashtags': [{'text': 'IPL', 'indices': [20, 24]}, {'text': 'Saini', 'indices': [96, 102]}, {'text': 'CSK', 'indices': [170, 174]}, {'text': 'RCB', 'indices': [187, 191]}, {'text': 'MI', 'indices': [214, 217]}], 'symbols': [], 'user_mentions': [{'screen_name': 'RCBTweets', 'name': 'Royal Challengers Bangalore', 'id': 70931004, 'id_str': '70931004', 'indices': [34, 44]}], 'urls': []}, 'metadata': {'iso_language_code': 'en', 'result_type': 'recent'}, 'source': '<a href=\"http://twitter.com/download/android\" rel=\"nofollow\">Twitter for Android</a>', 'in_reply_to_status_id': None, 'in_reply_to_status_id_str': None, 'in_reply_to_user_id': None, 'in_reply_to_user_id_str': None, 'in_reply_to_screen_name': None, 'user': {'id': 175131800, 'id_str': '175131800', 'name': 'Prashant Soni', 'screen_name': 'WriterPrashant', 'location': 'Baroda, Gujarat', 'description': 'Exporter | Soloprenuer | Jeweler | Writer | Business | Politics | Movie Analyst | Struggling for Dream | Insta: /writerprashant |', 'url': 'https://t.co/ITXJXCtTDE', 'entities': {'url': {'urls': [{'url': 'https://t.co/ITXJXCtTDE', 'expanded_url': 'http://www.facebook.com/prashant3108', 'display_url': 'facebook.com/prashant3108', 'indices': [0, 23]}]}, 'description': {'urls': []}}, 'protected': False, 'followers_count': 558, 'friends_count': 226, 'listed_count': 12, 'created_at': 'Thu Aug 05 18:32:43 +0000 2010', 'favourites_count': 179, 'utc_offset': None, 'time_zone': None, 'geo_enabled': True, 'verified': False, 'statuses_count': 37615, 'lang': None, 'contributors_enabled': False, 'is_translator': False, 'is_translation_enabled': False, 'profile_background_color': '9266CC', 'profile_background_image_url': 'http://abs.twimg.com/images/themes/theme17/bg.gif', 'profile_background_image_url_https': 'https://abs.twimg.com/images/themes/theme17/bg.gif', 'profile_background_tile': False, 'profile_image_url': 'http://pbs.twimg.com/profile_images/1302126662964752386/X-hJ17Rv_normal.jpg', 'profile_image_url_https': 'https://pbs.twimg.com/profile_images/1302126662964752386/X-hJ17Rv_normal.jpg', 'profile_banner_url': 'https://pbs.twimg.com/profile_banners/175131800/1504417861', 'profile_link_color': 'CC3366', 'profile_sidebar_border_color': '000000', 'profile_sidebar_fill_color': 'F3F3F3', 'profile_text_color': '333333', 'profile_use_background_image': True, 'has_extended_profile': True, 'default_profile': False, 'default_profile_image': False, 'following': False, 'follow_request_sent': False, 'notifications': False, 'translator_type': 'none'}, 'geo': None, 'coordinates': None, 'place': None, 'contributors': None, 'is_quote_status': False, 'retweet_count': 0, 'favorite_count': 0, 'favorited': False, 'retweeted': False, 'lang': 'en'}, created_at=datetime.datetime(2020, 11, 6, 17, 51, 11), id=1324771326125510657, id_str='1324771326125510657', full_text='Seriously this time #IPL is shit, @RCBTweets lose wining match today... dont understand how can #Saini deliver 2 same balls where no field setup... !!! \\nRidiculous first #CSK out and now #RCB... now big C category #MI will win', truncated=False, display_text_range=[0, 226], entities={'hashtags': [{'text': 'IPL', 'indices': [20, 24]}, {'text': 'Saini', 'indices': [96, 102]}, {'text': 'CSK', 'indices': [170, 174]}, {'text': 'RCB', 'indices': [187, 191]}, {'text': 'MI', 'indices': [214, 217]}], 'symbols': [], 'user_mentions': [{'screen_name': 'RCBTweets', 'name': 'Royal Challengers Bangalore', 'id': 70931004, 'id_str': '70931004', 'indices': [34, 44]}], 'urls': []}, metadata={'iso_language_code': 'en', 'result_type': 'recent'}, source='Twitter for Android', source_url='http://twitter.com/download/android', in_reply_to_status_id=None, in_reply_to_status_id_str=None, in_reply_to_user_id=None, in_reply_to_user_id_str=None, in_reply_to_screen_name=None, author=User(_api=<tweepy.api.API object at 0x000001D8F022FF08>, _json={'id': 175131800, 'id_str': '175131800', 'name': 'Prashant Soni', 'screen_name': 'WriterPrashant', 'location': 'Baroda, Gujarat', 'description': 'Exporter | Soloprenuer | Jeweler | Writer | Business | Politics | Movie Analyst | Struggling for Dream | Insta: /writerprashant |', 'url': 'https://t.co/ITXJXCtTDE', 'entities': {'url': {'urls': [{'url': 'https://t.co/ITXJXCtTDE', 'expanded_url': 'http://www.facebook.com/prashant3108', 'display_url': 'facebook.com/prashant3108', 'indices': [0, 23]}]}, 'description': {'urls': []}}, 'protected': False, 'followers_count': 558, 'friends_count': 226, 'listed_count': 12, 'created_at': 'Thu Aug 05 18:32:43 +0000 2010', 'favourites_count': 179, 'utc_offset': None, 'time_zone': None, 'geo_enabled': True, 'verified': False, 'statuses_count': 37615, 'lang': None, 'contributors_enabled': False, 'is_translator': False, 'is_translation_enabled': False, 'profile_background_color': '9266CC', 'profile_background_image_url': 'http://abs.twimg.com/images/themes/theme17/bg.gif', 'profile_background_image_url_https': 'https://abs.twimg.com/images/themes/theme17/bg.gif', 'profile_background_tile': False, 'profile_image_url': 'http://pbs.twimg.com/profile_images/1302126662964752386/X-hJ17Rv_normal.jpg', 'profile_image_url_https': 'https://pbs.twimg.com/profile_images/1302126662964752386/X-hJ17Rv_normal.jpg', 'profile_banner_url': 'https://pbs.twimg.com/profile_banners/175131800/1504417861', 'profile_link_color': 'CC3366', 'profile_sidebar_border_color': '000000', 'profile_sidebar_fill_color': 'F3F3F3', 'profile_text_color': '333333', 'profile_use_background_image': True, 'has_extended_profile': True, 'default_profile': False, 'default_profile_image': False, 'following': False, 'follow_request_sent': False, 'notifications': False, 'translator_type': 'none'}, id=175131800, id_str='175131800', name='Prashant Soni', screen_name='WriterPrashant', location='Baroda, Gujarat', description='Exporter | Soloprenuer | Jeweler | Writer | Business | Politics | Movie Analyst | Struggling for Dream | Insta: /writerprashant |', url='https://t.co/ITXJXCtTDE', entities={'url': {'urls': [{'url': 'https://t.co/ITXJXCtTDE', 'expanded_url': 'http://www.facebook.com/prashant3108', 'display_url': 'facebook.com/prashant3108', 'indices': [0, 23]}]}, 'description': {'urls': []}}, protected=False, followers_count=558, friends_count=226, listed_count=12, created_at=datetime.datetime(2010, 8, 5, 18, 32, 43), favourites_count=179, utc_offset=None, time_zone=None, geo_enabled=True, verified=False, statuses_count=37615, lang=None, contributors_enabled=False, is_translator=False, is_translation_enabled=False, profile_background_color='9266CC', profile_background_image_url='http://abs.twimg.com/images/themes/theme17/bg.gif', profile_background_image_url_https='https://abs.twimg.com/images/themes/theme17/bg.gif', profile_background_tile=False, profile_image_url='http://pbs.twimg.com/profile_images/1302126662964752386/X-hJ17Rv_normal.jpg', profile_image_url_https='https://pbs.twimg.com/profile_images/1302126662964752386/X-hJ17Rv_normal.jpg', profile_banner_url='https://pbs.twimg.com/profile_banners/175131800/1504417861', profile_link_color='CC3366', profile_sidebar_border_color='000000', profile_sidebar_fill_color='F3F3F3', profile_text_color='333333', profile_use_background_image=True, has_extended_profile=True, default_profile=False, default_profile_image=False, following=False, follow_request_sent=False, notifications=False, translator_type='none'), user=User(_api=<tweepy.api.API object at 0x000001D8F022FF08>, _json={'id': 175131800, 'id_str': '175131800', 'name': 'Prashant Soni', 'screen_name': 'WriterPrashant', 'location': 'Baroda, Gujarat', 'description': 'Exporter | Soloprenuer | Jeweler | Writer | Business | Politics | Movie Analyst | Struggling for Dream | Insta: /writerprashant |', 'url': 'https://t.co/ITXJXCtTDE', 'entities': {'url': {'urls': [{'url': 'https://t.co/ITXJXCtTDE', 'expanded_url': 'http://www.facebook.com/prashant3108', 'display_url': 'facebook.com/prashant3108', 'indices': [0, 23]}]}, 'description': {'urls': []}}, 'protected': False, 'followers_count': 558, 'friends_count': 226, 'listed_count': 12, 'created_at': 'Thu Aug 05 18:32:43 +0000 2010', 'favourites_count': 179, 'utc_offset': None, 'time_zone': None, 'geo_enabled': True, 'verified': False, 'statuses_count': 37615, 'lang': None, 'contributors_enabled': False, 'is_translator': False, 'is_translation_enabled': False, 'profile_background_color': '9266CC', 'profile_background_image_url': 'http://abs.twimg.com/images/themes/theme17/bg.gif', 'profile_background_image_url_https': 'https://abs.twimg.com/images/themes/theme17/bg.gif', 'profile_background_tile': False, 'profile_image_url': 'http://pbs.twimg.com/profile_images/1302126662964752386/X-hJ17Rv_normal.jpg', 'profile_image_url_https': 'https://pbs.twimg.com/profile_images/1302126662964752386/X-hJ17Rv_normal.jpg', 'profile_banner_url': 'https://pbs.twimg.com/profile_banners/175131800/1504417861', 'profile_link_color': 'CC3366', 'profile_sidebar_border_color': '000000', 'profile_sidebar_fill_color': 'F3F3F3', 'profile_text_color': '333333', 'profile_use_background_image': True, 'has_extended_profile': True, 'default_profile': False, 'default_profile_image': False, 'following': False, 'follow_request_sent': False, 'notifications': False, 'translator_type': 'none'}, id=175131800, id_str='175131800', name='Prashant Soni', screen_name='WriterPrashant', location='Baroda, Gujarat', description='Exporter | Soloprenuer | Jeweler | Writer | Business | Politics | Movie Analyst | Struggling for Dream | Insta: /writerprashant |', url='https://t.co/ITXJXCtTDE', entities={'url': {'urls': [{'url': 'https://t.co/ITXJXCtTDE', 'expanded_url': 'http://www.facebook.com/prashant3108', 'display_url': 'facebook.com/prashant3108', 'indices': [0, 23]}]}, 'description': {'urls': []}}, protected=False, followers_count=558, friends_count=226, listed_count=12, created_at=datetime.datetime(2010, 8, 5, 18, 32, 43), favourites_count=179, utc_offset=None, time_zone=None, geo_enabled=True, verified=False, statuses_count=37615, lang=None, contributors_enabled=False, is_translator=False, is_translation_enabled=False, profile_background_color='9266CC', profile_background_image_url='http://abs.twimg.com/images/themes/theme17/bg.gif', profile_background_image_url_https='https://abs.twimg.com/images/themes/theme17/bg.gif', profile_background_tile=False, profile_image_url='http://pbs.twimg.com/profile_images/1302126662964752386/X-hJ17Rv_normal.jpg', profile_image_url_https='https://pbs.twimg.com/profile_images/1302126662964752386/X-hJ17Rv_normal.jpg', profile_banner_url='https://pbs.twimg.com/profile_banners/175131800/1504417861', profile_link_color='CC3366', profile_sidebar_border_color='000000', profile_sidebar_fill_color='F3F3F3', profile_text_color='333333', profile_use_background_image=True, has_extended_profile=True, default_profile=False, default_profile_image=False, following=False, follow_request_sent=False, notifications=False, translator_type='none'), geo=None, coordinates=None, place=None, contributors=None, is_quote_status=False, retweet_count=0, favorite_count=0, favorited=False, retweeted=False, lang='en') \n",
      "\n",
      "...................._____________.........................\n",
      "Status(_api=<tweepy.api.API object at 0x000001D8F022FF08>, _json={'created_at': 'Thu Nov 05 08:04:23 +0000 2020', 'id': 1324261265032704000, 'id_str': '1324261265032704000', 'full_text': 'mi Vs DC 💯 wining team gauntee if anyone loss Daily in dream11 msg me on whatapp 7202082496 #MIvDC #Dream11IPL #dream11Prediction #Dream11 #Dream11IPL2020 #IPL #IPL2020', 'truncated': False, 'display_text_range': [0, 168], 'entities': {'hashtags': [{'text': 'MIvDC', 'indices': [92, 98]}, {'text': 'Dream11IPL', 'indices': [99, 110]}, {'text': 'dream11Prediction', 'indices': [111, 129]}, {'text': 'Dream11', 'indices': [130, 138]}, {'text': 'Dream11IPL2020', 'indices': [139, 154]}, {'text': 'IPL', 'indices': [155, 159]}, {'text': 'IPL2020', 'indices': [160, 168]}], 'symbols': [], 'user_mentions': [], 'urls': []}, 'metadata': {'iso_language_code': 'en', 'result_type': 'recent'}, 'source': '<a href=\"http://twitter.com/download/android\" rel=\"nofollow\">Twitter for Android</a>', 'in_reply_to_status_id': None, 'in_reply_to_status_id_str': None, 'in_reply_to_user_id': None, 'in_reply_to_user_id_str': None, 'in_reply_to_screen_name': None, 'user': {'id': 1088345004660076544, 'id_str': '1088345004660076544', 'name': 'Dream11 Pro', 'screen_name': 'Dream11Pro3', 'location': '', 'description': '100%  Wining Team Gl OR SL dream 11 we provide sl and gl team  |🥇Gl Specialist🥇 ||msg on Whatapp📩 7202082496', 'url': None, 'entities': {'description': {'urls': []}}, 'protected': False, 'followers_count': 1649, 'friends_count': 2526, 'listed_count': 3, 'created_at': 'Thu Jan 24 07:57:24 +0000 2019', 'favourites_count': 525, 'utc_offset': None, 'time_zone': None, 'geo_enabled': False, 'verified': False, 'statuses_count': 842, 'lang': None, 'contributors_enabled': False, 'is_translator': False, 'is_translation_enabled': False, 'profile_background_color': 'F5F8FA', 'profile_background_image_url': None, 'profile_background_image_url_https': None, 'profile_background_tile': False, 'profile_image_url': 'http://pbs.twimg.com/profile_images/1144554816036675584/NWDy5oLs_normal.jpg', 'profile_image_url_https': 'https://pbs.twimg.com/profile_images/1144554816036675584/NWDy5oLs_normal.jpg', 'profile_banner_url': 'https://pbs.twimg.com/profile_banners/1088345004660076544/1563255654', 'profile_link_color': '1DA1F2', 'profile_sidebar_border_color': 'C0DEED', 'profile_sidebar_fill_color': 'DDEEF6', 'profile_text_color': '333333', 'profile_use_background_image': True, 'has_extended_profile': True, 'default_profile': True, 'default_profile_image': False, 'following': False, 'follow_request_sent': False, 'notifications': False, 'translator_type': 'none'}, 'geo': None, 'coordinates': None, 'place': None, 'contributors': None, 'is_quote_status': False, 'retweet_count': 4, 'favorite_count': 8, 'favorited': False, 'retweeted': False, 'lang': 'en'}, created_at=datetime.datetime(2020, 11, 5, 8, 4, 23), id=1324261265032704000, id_str='1324261265032704000', full_text='mi Vs DC 💯 wining team gauntee if anyone loss Daily in dream11 msg me on whatapp 7202082496 #MIvDC #Dream11IPL #dream11Prediction #Dream11 #Dream11IPL2020 #IPL #IPL2020', truncated=False, display_text_range=[0, 168], entities={'hashtags': [{'text': 'MIvDC', 'indices': [92, 98]}, {'text': 'Dream11IPL', 'indices': [99, 110]}, {'text': 'dream11Prediction', 'indices': [111, 129]}, {'text': 'Dream11', 'indices': [130, 138]}, {'text': 'Dream11IPL2020', 'indices': [139, 154]}, {'text': 'IPL', 'indices': [155, 159]}, {'text': 'IPL2020', 'indices': [160, 168]}], 'symbols': [], 'user_mentions': [], 'urls': []}, metadata={'iso_language_code': 'en', 'result_type': 'recent'}, source='Twitter for Android', source_url='http://twitter.com/download/android', in_reply_to_status_id=None, in_reply_to_status_id_str=None, in_reply_to_user_id=None, in_reply_to_user_id_str=None, in_reply_to_screen_name=None, author=User(_api=<tweepy.api.API object at 0x000001D8F022FF08>, _json={'id': 1088345004660076544, 'id_str': '1088345004660076544', 'name': 'Dream11 Pro', 'screen_name': 'Dream11Pro3', 'location': '', 'description': '100%  Wining Team Gl OR SL dream 11 we provide sl and gl team  |🥇Gl Specialist🥇 ||msg on Whatapp📩 7202082496', 'url': None, 'entities': {'description': {'urls': []}}, 'protected': False, 'followers_count': 1649, 'friends_count': 2526, 'listed_count': 3, 'created_at': 'Thu Jan 24 07:57:24 +0000 2019', 'favourites_count': 525, 'utc_offset': None, 'time_zone': None, 'geo_enabled': False, 'verified': False, 'statuses_count': 842, 'lang': None, 'contributors_enabled': False, 'is_translator': False, 'is_translation_enabled': False, 'profile_background_color': 'F5F8FA', 'profile_background_image_url': None, 'profile_background_image_url_https': None, 'profile_background_tile': False, 'profile_image_url': 'http://pbs.twimg.com/profile_images/1144554816036675584/NWDy5oLs_normal.jpg', 'profile_image_url_https': 'https://pbs.twimg.com/profile_images/1144554816036675584/NWDy5oLs_normal.jpg', 'profile_banner_url': 'https://pbs.twimg.com/profile_banners/1088345004660076544/1563255654', 'profile_link_color': '1DA1F2', 'profile_sidebar_border_color': 'C0DEED', 'profile_sidebar_fill_color': 'DDEEF6', 'profile_text_color': '333333', 'profile_use_background_image': True, 'has_extended_profile': True, 'default_profile': True, 'default_profile_image': False, 'following': False, 'follow_request_sent': False, 'notifications': False, 'translator_type': 'none'}, id=1088345004660076544, id_str='1088345004660076544', name='Dream11 Pro', screen_name='Dream11Pro3', location='', description='100%  Wining Team Gl OR SL dream 11 we provide sl and gl team  |🥇Gl Specialist🥇 ||msg on Whatapp📩 7202082496', url=None, entities={'description': {'urls': []}}, protected=False, followers_count=1649, friends_count=2526, listed_count=3, created_at=datetime.datetime(2019, 1, 24, 7, 57, 24), favourites_count=525, utc_offset=None, time_zone=None, geo_enabled=False, verified=False, statuses_count=842, lang=None, contributors_enabled=False, is_translator=False, is_translation_enabled=False, profile_background_color='F5F8FA', profile_background_image_url=None, profile_background_image_url_https=None, profile_background_tile=False, profile_image_url='http://pbs.twimg.com/profile_images/1144554816036675584/NWDy5oLs_normal.jpg', profile_image_url_https='https://pbs.twimg.com/profile_images/1144554816036675584/NWDy5oLs_normal.jpg', profile_banner_url='https://pbs.twimg.com/profile_banners/1088345004660076544/1563255654', profile_link_color='1DA1F2', profile_sidebar_border_color='C0DEED', profile_sidebar_fill_color='DDEEF6', profile_text_color='333333', profile_use_background_image=True, has_extended_profile=True, default_profile=True, default_profile_image=False, following=False, follow_request_sent=False, notifications=False, translator_type='none'), user=User(_api=<tweepy.api.API object at 0x000001D8F022FF08>, _json={'id': 1088345004660076544, 'id_str': '1088345004660076544', 'name': 'Dream11 Pro', 'screen_name': 'Dream11Pro3', 'location': '', 'description': '100%  Wining Team Gl OR SL dream 11 we provide sl and gl team  |🥇Gl Specialist🥇 ||msg on Whatapp📩 7202082496', 'url': None, 'entities': {'description': {'urls': []}}, 'protected': False, 'followers_count': 1649, 'friends_count': 2526, 'listed_count': 3, 'created_at': 'Thu Jan 24 07:57:24 +0000 2019', 'favourites_count': 525, 'utc_offset': None, 'time_zone': None, 'geo_enabled': False, 'verified': False, 'statuses_count': 842, 'lang': None, 'contributors_enabled': False, 'is_translator': False, 'is_translation_enabled': False, 'profile_background_color': 'F5F8FA', 'profile_background_image_url': None, 'profile_background_image_url_https': None, 'profile_background_tile': False, 'profile_image_url': 'http://pbs.twimg.com/profile_images/1144554816036675584/NWDy5oLs_normal.jpg', 'profile_image_url_https': 'https://pbs.twimg.com/profile_images/1144554816036675584/NWDy5oLs_normal.jpg', 'profile_banner_url': 'https://pbs.twimg.com/profile_banners/1088345004660076544/1563255654', 'profile_link_color': '1DA1F2', 'profile_sidebar_border_color': 'C0DEED', 'profile_sidebar_fill_color': 'DDEEF6', 'profile_text_color': '333333', 'profile_use_background_image': True, 'has_extended_profile': True, 'default_profile': True, 'default_profile_image': False, 'following': False, 'follow_request_sent': False, 'notifications': False, 'translator_type': 'none'}, id=1088345004660076544, id_str='1088345004660076544', name='Dream11 Pro', screen_name='Dream11Pro3', location='', description='100%  Wining Team Gl OR SL dream 11 we provide sl and gl team  |🥇Gl Specialist🥇 ||msg on Whatapp📩 7202082496', url=None, entities={'description': {'urls': []}}, protected=False, followers_count=1649, friends_count=2526, listed_count=3, created_at=datetime.datetime(2019, 1, 24, 7, 57, 24), favourites_count=525, utc_offset=None, time_zone=None, geo_enabled=False, verified=False, statuses_count=842, lang=None, contributors_enabled=False, is_translator=False, is_translation_enabled=False, profile_background_color='F5F8FA', profile_background_image_url=None, profile_background_image_url_https=None, profile_background_tile=False, profile_image_url='http://pbs.twimg.com/profile_images/1144554816036675584/NWDy5oLs_normal.jpg', profile_image_url_https='https://pbs.twimg.com/profile_images/1144554816036675584/NWDy5oLs_normal.jpg', profile_banner_url='https://pbs.twimg.com/profile_banners/1088345004660076544/1563255654', profile_link_color='1DA1F2', profile_sidebar_border_color='C0DEED', profile_sidebar_fill_color='DDEEF6', profile_text_color='333333', profile_use_background_image=True, has_extended_profile=True, default_profile=True, default_profile_image=False, following=False, follow_request_sent=False, notifications=False, translator_type='none'), geo=None, coordinates=None, place=None, contributors=None, is_quote_status=False, retweet_count=4, favorite_count=8, favorited=False, retweeted=False, lang='en') \n",
      "\n",
      "...................._____________.........................\n",
      "Status(_api=<tweepy.api.API object at 0x000001D8F022FF08>, _json={'created_at': 'Sat Oct 31 12:53:20 +0000 2020', 'id': 1322522042948743169, 'id_str': '1322522042948743169', 'full_text': 'Only way to stop #MI from wining IPL is by praying they face a bad day in Finals. \\nBest team from league stage💪', 'truncated': False, 'display_text_range': [0, 111], 'entities': {'hashtags': [{'text': 'MI', 'indices': [17, 20]}], 'symbols': [], 'user_mentions': [], 'urls': []}, 'metadata': {'iso_language_code': 'en', 'result_type': 'recent'}, 'source': '<a href=\"http://twitter.com/download/android\" rel=\"nofollow\">Twitter for Android</a>', 'in_reply_to_status_id': None, 'in_reply_to_status_id_str': None, 'in_reply_to_user_id': None, 'in_reply_to_user_id_str': None, 'in_reply_to_screen_name': None, 'user': {'id': 823071508511735808, 'id_str': '823071508511735808', 'name': 'Ashwani', 'screen_name': 'itsash_10', 'location': '', 'description': 'Engineer in making | Photographer by passion | Crazy for cricket | Graphic designer | Gamer | Arijit | Sachin | Rohit | Music is life, Let there be Light!', 'url': 'https://t.co/6EqfiNSwMf', 'entities': {'url': {'urls': [{'url': 'https://t.co/6EqfiNSwMf', 'expanded_url': 'https://www.facebook.com/ash10photography/', 'display_url': 'facebook.com/ash10photograp…', 'indices': [0, 23]}]}, 'description': {'urls': []}}, 'protected': False, 'followers_count': 248, 'friends_count': 209, 'listed_count': 0, 'created_at': 'Sun Jan 22 07:35:14 +0000 2017', 'favourites_count': 8495, 'utc_offset': None, 'time_zone': None, 'geo_enabled': True, 'verified': False, 'statuses_count': 2216, 'lang': None, 'contributors_enabled': False, 'is_translator': False, 'is_translation_enabled': False, 'profile_background_color': 'F5F8FA', 'profile_background_image_url': None, 'profile_background_image_url_https': None, 'profile_background_tile': False, 'profile_image_url': 'http://pbs.twimg.com/profile_images/1254286239403921408/jlmSGWX-_normal.jpg', 'profile_image_url_https': 'https://pbs.twimg.com/profile_images/1254286239403921408/jlmSGWX-_normal.jpg', 'profile_banner_url': 'https://pbs.twimg.com/profile_banners/823071508511735808/1531195469', 'profile_link_color': '1DA1F2', 'profile_sidebar_border_color': 'C0DEED', 'profile_sidebar_fill_color': 'DDEEF6', 'profile_text_color': '333333', 'profile_use_background_image': True, 'has_extended_profile': True, 'default_profile': True, 'default_profile_image': False, 'following': False, 'follow_request_sent': False, 'notifications': False, 'translator_type': 'none'}, 'geo': None, 'coordinates': None, 'place': None, 'contributors': None, 'is_quote_status': False, 'retweet_count': 1, 'favorite_count': 6, 'favorited': False, 'retweeted': False, 'lang': 'en'}, created_at=datetime.datetime(2020, 10, 31, 12, 53, 20), id=1322522042948743169, id_str='1322522042948743169', full_text='Only way to stop #MI from wining IPL is by praying they face a bad day in Finals. \\nBest team from league stage💪', truncated=False, display_text_range=[0, 111], entities={'hashtags': [{'text': 'MI', 'indices': [17, 20]}], 'symbols': [], 'user_mentions': [], 'urls': []}, metadata={'iso_language_code': 'en', 'result_type': 'recent'}, source='Twitter for Android', source_url='http://twitter.com/download/android', in_reply_to_status_id=None, in_reply_to_status_id_str=None, in_reply_to_user_id=None, in_reply_to_user_id_str=None, in_reply_to_screen_name=None, author=User(_api=<tweepy.api.API object at 0x000001D8F022FF08>, _json={'id': 823071508511735808, 'id_str': '823071508511735808', 'name': 'Ashwani', 'screen_name': 'itsash_10', 'location': '', 'description': 'Engineer in making | Photographer by passion | Crazy for cricket | Graphic designer | Gamer | Arijit | Sachin | Rohit | Music is life, Let there be Light!', 'url': 'https://t.co/6EqfiNSwMf', 'entities': {'url': {'urls': [{'url': 'https://t.co/6EqfiNSwMf', 'expanded_url': 'https://www.facebook.com/ash10photography/', 'display_url': 'facebook.com/ash10photograp…', 'indices': [0, 23]}]}, 'description': {'urls': []}}, 'protected': False, 'followers_count': 248, 'friends_count': 209, 'listed_count': 0, 'created_at': 'Sun Jan 22 07:35:14 +0000 2017', 'favourites_count': 8495, 'utc_offset': None, 'time_zone': None, 'geo_enabled': True, 'verified': False, 'statuses_count': 2216, 'lang': None, 'contributors_enabled': False, 'is_translator': False, 'is_translation_enabled': False, 'profile_background_color': 'F5F8FA', 'profile_background_image_url': None, 'profile_background_image_url_https': None, 'profile_background_tile': False, 'profile_image_url': 'http://pbs.twimg.com/profile_images/1254286239403921408/jlmSGWX-_normal.jpg', 'profile_image_url_https': 'https://pbs.twimg.com/profile_images/1254286239403921408/jlmSGWX-_normal.jpg', 'profile_banner_url': 'https://pbs.twimg.com/profile_banners/823071508511735808/1531195469', 'profile_link_color': '1DA1F2', 'profile_sidebar_border_color': 'C0DEED', 'profile_sidebar_fill_color': 'DDEEF6', 'profile_text_color': '333333', 'profile_use_background_image': True, 'has_extended_profile': True, 'default_profile': True, 'default_profile_image': False, 'following': False, 'follow_request_sent': False, 'notifications': False, 'translator_type': 'none'}, id=823071508511735808, id_str='823071508511735808', name='Ashwani', screen_name='itsash_10', location='', description='Engineer in making | Photographer by passion | Crazy for cricket | Graphic designer | Gamer | Arijit | Sachin | Rohit | Music is life, Let there be Light!', url='https://t.co/6EqfiNSwMf', entities={'url': {'urls': [{'url': 'https://t.co/6EqfiNSwMf', 'expanded_url': 'https://www.facebook.com/ash10photography/', 'display_url': 'facebook.com/ash10photograp…', 'indices': [0, 23]}]}, 'description': {'urls': []}}, protected=False, followers_count=248, friends_count=209, listed_count=0, created_at=datetime.datetime(2017, 1, 22, 7, 35, 14), favourites_count=8495, utc_offset=None, time_zone=None, geo_enabled=True, verified=False, statuses_count=2216, lang=None, contributors_enabled=False, is_translator=False, is_translation_enabled=False, profile_background_color='F5F8FA', profile_background_image_url=None, profile_background_image_url_https=None, profile_background_tile=False, profile_image_url='http://pbs.twimg.com/profile_images/1254286239403921408/jlmSGWX-_normal.jpg', profile_image_url_https='https://pbs.twimg.com/profile_images/1254286239403921408/jlmSGWX-_normal.jpg', profile_banner_url='https://pbs.twimg.com/profile_banners/823071508511735808/1531195469', profile_link_color='1DA1F2', profile_sidebar_border_color='C0DEED', profile_sidebar_fill_color='DDEEF6', profile_text_color='333333', profile_use_background_image=True, has_extended_profile=True, default_profile=True, default_profile_image=False, following=False, follow_request_sent=False, notifications=False, translator_type='none'), user=User(_api=<tweepy.api.API object at 0x000001D8F022FF08>, _json={'id': 823071508511735808, 'id_str': '823071508511735808', 'name': 'Ashwani', 'screen_name': 'itsash_10', 'location': '', 'description': 'Engineer in making | Photographer by passion | Crazy for cricket | Graphic designer | Gamer | Arijit | Sachin | Rohit | Music is life, Let there be Light!', 'url': 'https://t.co/6EqfiNSwMf', 'entities': {'url': {'urls': [{'url': 'https://t.co/6EqfiNSwMf', 'expanded_url': 'https://www.facebook.com/ash10photography/', 'display_url': 'facebook.com/ash10photograp…', 'indices': [0, 23]}]}, 'description': {'urls': []}}, 'protected': False, 'followers_count': 248, 'friends_count': 209, 'listed_count': 0, 'created_at': 'Sun Jan 22 07:35:14 +0000 2017', 'favourites_count': 8495, 'utc_offset': None, 'time_zone': None, 'geo_enabled': True, 'verified': False, 'statuses_count': 2216, 'lang': None, 'contributors_enabled': False, 'is_translator': False, 'is_translation_enabled': False, 'profile_background_color': 'F5F8FA', 'profile_background_image_url': None, 'profile_background_image_url_https': None, 'profile_background_tile': False, 'profile_image_url': 'http://pbs.twimg.com/profile_images/1254286239403921408/jlmSGWX-_normal.jpg', 'profile_image_url_https': 'https://pbs.twimg.com/profile_images/1254286239403921408/jlmSGWX-_normal.jpg', 'profile_banner_url': 'https://pbs.twimg.com/profile_banners/823071508511735808/1531195469', 'profile_link_color': '1DA1F2', 'profile_sidebar_border_color': 'C0DEED', 'profile_sidebar_fill_color': 'DDEEF6', 'profile_text_color': '333333', 'profile_use_background_image': True, 'has_extended_profile': True, 'default_profile': True, 'default_profile_image': False, 'following': False, 'follow_request_sent': False, 'notifications': False, 'translator_type': 'none'}, id=823071508511735808, id_str='823071508511735808', name='Ashwani', screen_name='itsash_10', location='', description='Engineer in making | Photographer by passion | Crazy for cricket | Graphic designer | Gamer | Arijit | Sachin | Rohit | Music is life, Let there be Light!', url='https://t.co/6EqfiNSwMf', entities={'url': {'urls': [{'url': 'https://t.co/6EqfiNSwMf', 'expanded_url': 'https://www.facebook.com/ash10photography/', 'display_url': 'facebook.com/ash10photograp…', 'indices': [0, 23]}]}, 'description': {'urls': []}}, protected=False, followers_count=248, friends_count=209, listed_count=0, created_at=datetime.datetime(2017, 1, 22, 7, 35, 14), favourites_count=8495, utc_offset=None, time_zone=None, geo_enabled=True, verified=False, statuses_count=2216, lang=None, contributors_enabled=False, is_translator=False, is_translation_enabled=False, profile_background_color='F5F8FA', profile_background_image_url=None, profile_background_image_url_https=None, profile_background_tile=False, profile_image_url='http://pbs.twimg.com/profile_images/1254286239403921408/jlmSGWX-_normal.jpg', profile_image_url_https='https://pbs.twimg.com/profile_images/1254286239403921408/jlmSGWX-_normal.jpg', profile_banner_url='https://pbs.twimg.com/profile_banners/823071508511735808/1531195469', profile_link_color='1DA1F2', profile_sidebar_border_color='C0DEED', profile_sidebar_fill_color='DDEEF6', profile_text_color='333333', profile_use_background_image=True, has_extended_profile=True, default_profile=True, default_profile_image=False, following=False, follow_request_sent=False, notifications=False, translator_type='none'), geo=None, coordinates=None, place=None, contributors=None, is_quote_status=False, retweet_count=1, favorite_count=6, favorited=False, retweeted=False, lang='en') \n",
      "\n",
      "...................._____________.........................\n"
     ]
    }
   ],
   "source": [
    "query = 'MI wining IPL'\n",
    "Tweets = api.search(query , count=3 , lang='en' , exclude='retweets' , tweet_mode='extended')\n",
    "\n",
    "for tweet in Tweets:\n",
    "    print(tweet ,'\\n')\n",
    "    print('...................._____________.........................')"
   ]
  },
  {
   "cell_type": "code",
   "execution_count": 6,
   "metadata": {},
   "outputs": [],
   "source": [
    "from textblob import TextBlob"
   ]
  },
  {
   "cell_type": "code",
   "execution_count": 7,
   "metadata": {},
   "outputs": [
    {
     "name": "stdout",
     "output_type": "stream",
     "text": [
      "positive\n",
      "Sentiment(polarity=0.07777777777777777, subjectivity=0.2111111111111111)\n"
     ]
    }
   ],
   "source": [
    "q = \"failure is first step of success\"\n",
    "ans = TextBlob(q)\n",
    "if ans.sentiment.polarity>0:\n",
    "    print('positive')\n",
    "elif ans.sentiment.polarity<0:\n",
    "    print('Negative')\n",
    "else:\n",
    "    print('Neutral')\n",
    "print(ans.sentiment)"
   ]
  },
  {
   "cell_type": "code",
   "execution_count": 8,
   "metadata": {},
   "outputs": [],
   "source": [
    "import re\n",
    "def clean_tweet(tweet):\n",
    "    return ' '.join(re.sub('(@[A-Za-z0-9]+)|([^0-9A-Za-z \\t])|(\\w+:\\/\\/\\S+)', ' ', tweet).split())"
   ]
  },
  {
   "cell_type": "code",
   "execution_count": 9,
   "metadata": {},
   "outputs": [
    {
     "name": "stdout",
     "output_type": "stream",
     "text": [
      "Empty DataFrame\n",
      "Columns: [Tweets, User, User_statuses_count, user_followers, User_location, User_verified, fav_count, rt_count, tweet_date]\n",
      "Index: []\n"
     ]
    }
   ],
   "source": [
    "df = pd.DataFrame(columns = ['Tweets' , 'User' , 'User_statuses_count' , \n",
    "                            'user_followers' , 'User_location' , 'User_verified' ,\n",
    "                            'fav_count' , 'rt_count' , 'tweet_date'] )\n",
    "print(df)"
   ]
  },
  {
   "cell_type": "code",
   "execution_count": 10,
   "metadata": {},
   "outputs": [],
   "source": [
    "def stream(data, file_name):\n",
    "    i = 0\n",
    "    for tweet in tweepy.Cursor(api.search, q=data, count=100, lang='en').items():\n",
    "        print(i, end='\\r')\n",
    "        df.loc[i, 'Tweets'] = tweet.text\n",
    "        df.loc[i, 'User'] = tweet.user.name\n",
    "        df.loc[i, 'User_statuses_count'] = tweet.user.statuses_count\n",
    "        df.loc[i, 'user_followers'] = tweet.user.followers_count\n",
    "        df.loc[i, 'User_location'] = tweet.user.location\n",
    "        df.loc[i, 'User_verified'] = tweet.user.verified\n",
    "        df.loc[i, 'fav_count'] = tweet.favorite_count\n",
    "        df.loc[i, 'rt_count'] = tweet.retweet_count\n",
    "        df.loc[i, 'tweet_date'] = tweet.created_at\n",
    "        df.to_excel('{}.xlsx'.format(file_name))\n",
    "        i = i+1\n",
    "        if i == 1000:\n",
    "            break\n",
    "        else:\n",
    "            pass"
   ]
  },
  {
   "cell_type": "code",
   "execution_count": 11,
   "metadata": {},
   "outputs": [
    {
     "name": "stdout",
     "output_type": "stream",
     "text": [
      "999\r"
     ]
    }
   ],
   "source": [
    "stream(data=['MI will win IPL'],file_name='my_tweets')"
   ]
  },
  {
   "cell_type": "code",
   "execution_count": 12,
   "metadata": {},
   "outputs": [],
   "source": [
    "df['clean_tweet'] = df['Tweets'].apply(lambda x : clean_tweet(x))"
   ]
  },
  {
   "cell_type": "code",
   "execution_count": 13,
   "metadata": {},
   "outputs": [
    {
     "data": {
      "text/html": [
       "<div>\n",
       "<style scoped>\n",
       "    .dataframe tbody tr th:only-of-type {\n",
       "        vertical-align: middle;\n",
       "    }\n",
       "\n",
       "    .dataframe tbody tr th {\n",
       "        vertical-align: top;\n",
       "    }\n",
       "\n",
       "    .dataframe thead th {\n",
       "        text-align: right;\n",
       "    }\n",
       "</style>\n",
       "<table border=\"1\" class=\"dataframe\">\n",
       "  <thead>\n",
       "    <tr style=\"text-align: right;\">\n",
       "      <th></th>\n",
       "      <th>Tweets</th>\n",
       "      <th>User</th>\n",
       "      <th>User_statuses_count</th>\n",
       "      <th>user_followers</th>\n",
       "      <th>User_location</th>\n",
       "      <th>User_verified</th>\n",
       "      <th>fav_count</th>\n",
       "      <th>rt_count</th>\n",
       "      <th>tweet_date</th>\n",
       "      <th>clean_tweet</th>\n",
       "    </tr>\n",
       "  </thead>\n",
       "  <tbody>\n",
       "    <tr>\n",
       "      <td>0</td>\n",
       "      <td>RT @R3Mitul: Yep yep\\nKohli will be avg this I...</td>\n",
       "      <td>Udit Panwar</td>\n",
       "      <td>7576</td>\n",
       "      <td>561</td>\n",
       "      <td>Muzaffarnagar, India</td>\n",
       "      <td>False</td>\n",
       "      <td>0</td>\n",
       "      <td>2785</td>\n",
       "      <td>2020-11-07 06:54:47</td>\n",
       "      <td>RT Yep yep Kohli will be avg this IPL CSK won ...</td>\n",
       "    </tr>\n",
       "    <tr>\n",
       "      <td>1</td>\n",
       "      <td>RT @R3Mitul: Kohli will be avg this IPL ✅\\nCSK...</td>\n",
       "      <td>💥padmanapan💥</td>\n",
       "      <td>75812</td>\n",
       "      <td>8542</td>\n",
       "      <td>Tamil Nadu, India</td>\n",
       "      <td>False</td>\n",
       "      <td>0</td>\n",
       "      <td>596</td>\n",
       "      <td>2020-11-07 06:47:55</td>\n",
       "      <td>RT Kohli will be avg this IPL CSK won t reach ...</td>\n",
       "    </tr>\n",
       "    <tr>\n",
       "      <td>2</td>\n",
       "      <td>RT @R3Mitul: Yep yep\\nKohli will be avg this I...</td>\n",
       "      <td>💥padmanapan💥</td>\n",
       "      <td>75812</td>\n",
       "      <td>8542</td>\n",
       "      <td>Tamil Nadu, India</td>\n",
       "      <td>False</td>\n",
       "      <td>0</td>\n",
       "      <td>2785</td>\n",
       "      <td>2020-11-07 06:47:22</td>\n",
       "      <td>RT Yep yep Kohli will be avg this IPL CSK won ...</td>\n",
       "    </tr>\n",
       "    <tr>\n",
       "      <td>3</td>\n",
       "      <td>RT @R3Mitul: Yep yep\\nKohli will be avg this I...</td>\n",
       "      <td>Praveen</td>\n",
       "      <td>6916</td>\n",
       "      <td>375</td>\n",
       "      <td>Tirupur</td>\n",
       "      <td>False</td>\n",
       "      <td>0</td>\n",
       "      <td>2785</td>\n",
       "      <td>2020-11-07 06:46:51</td>\n",
       "      <td>RT Yep yep Kohli will be avg this IPL CSK won ...</td>\n",
       "    </tr>\n",
       "    <tr>\n",
       "      <td>4</td>\n",
       "      <td>RT @R3Mitul: Yep yep\\nKohli will be avg this I...</td>\n",
       "      <td>Chandu</td>\n",
       "      <td>607</td>\n",
       "      <td>106</td>\n",
       "      <td>gujju</td>\n",
       "      <td>False</td>\n",
       "      <td>0</td>\n",
       "      <td>2785</td>\n",
       "      <td>2020-11-07 06:46:48</td>\n",
       "      <td>RT Yep yep Kohli will be avg this IPL CSK won ...</td>\n",
       "    </tr>\n",
       "  </tbody>\n",
       "</table>\n",
       "</div>"
      ],
      "text/plain": [
       "                                              Tweets          User  \\\n",
       "0  RT @R3Mitul: Yep yep\\nKohli will be avg this I...   Udit Panwar   \n",
       "1  RT @R3Mitul: Kohli will be avg this IPL ✅\\nCSK...  💥padmanapan💥   \n",
       "2  RT @R3Mitul: Yep yep\\nKohli will be avg this I...  💥padmanapan💥   \n",
       "3  RT @R3Mitul: Yep yep\\nKohli will be avg this I...       Praveen   \n",
       "4  RT @R3Mitul: Yep yep\\nKohli will be avg this I...        Chandu   \n",
       "\n",
       "  User_statuses_count user_followers         User_location User_verified  \\\n",
       "0                7576            561  Muzaffarnagar, India         False   \n",
       "1               75812           8542     Tamil Nadu, India         False   \n",
       "2               75812           8542     Tamil Nadu, India         False   \n",
       "3                6916            375               Tirupur         False   \n",
       "4                 607            106                 gujju         False   \n",
       "\n",
       "  fav_count rt_count           tweet_date  \\\n",
       "0         0     2785  2020-11-07 06:54:47   \n",
       "1         0      596  2020-11-07 06:47:55   \n",
       "2         0     2785  2020-11-07 06:47:22   \n",
       "3         0     2785  2020-11-07 06:46:51   \n",
       "4         0     2785  2020-11-07 06:46:48   \n",
       "\n",
       "                                         clean_tweet  \n",
       "0  RT Yep yep Kohli will be avg this IPL CSK won ...  \n",
       "1  RT Kohli will be avg this IPL CSK won t reach ...  \n",
       "2  RT Yep yep Kohli will be avg this IPL CSK won ...  \n",
       "3  RT Yep yep Kohli will be avg this IPL CSK won ...  \n",
       "4  RT Yep yep Kohli will be avg this IPL CSK won ...  "
      ]
     },
     "execution_count": 13,
     "metadata": {},
     "output_type": "execute_result"
    }
   ],
   "source": [
    "df.head()"
   ]
  },
  {
   "cell_type": "code",
   "execution_count": 14,
   "metadata": {},
   "outputs": [],
   "source": [
    "def analyze_sentiment(tweet):\n",
    "    analyze = TextBlob(tweet)\n",
    "    if analyze.sentiment.polarity > 0 :\n",
    "        return 'Positive'\n",
    "    elif analyze.sentiment.polarity == 0:\n",
    "        return 'Neutral'\n",
    "    else:\n",
    "        return 'Negative'"
   ]
  },
  {
   "cell_type": "code",
   "execution_count": 15,
   "metadata": {},
   "outputs": [],
   "source": [
    "df['sentiment'] = df['clean_tweet'].apply(lambda x : analyze_sentiment(x))"
   ]
  },
  {
   "cell_type": "code",
   "execution_count": 16,
   "metadata": {},
   "outputs": [
    {
     "data": {
      "text/html": [
       "<div>\n",
       "<style scoped>\n",
       "    .dataframe tbody tr th:only-of-type {\n",
       "        vertical-align: middle;\n",
       "    }\n",
       "\n",
       "    .dataframe tbody tr th {\n",
       "        vertical-align: top;\n",
       "    }\n",
       "\n",
       "    .dataframe thead th {\n",
       "        text-align: right;\n",
       "    }\n",
       "</style>\n",
       "<table border=\"1\" class=\"dataframe\">\n",
       "  <thead>\n",
       "    <tr style=\"text-align: right;\">\n",
       "      <th></th>\n",
       "      <th>Tweets</th>\n",
       "      <th>User</th>\n",
       "      <th>User_statuses_count</th>\n",
       "      <th>user_followers</th>\n",
       "      <th>User_location</th>\n",
       "      <th>User_verified</th>\n",
       "      <th>fav_count</th>\n",
       "      <th>rt_count</th>\n",
       "      <th>tweet_date</th>\n",
       "      <th>clean_tweet</th>\n",
       "      <th>sentiment</th>\n",
       "    </tr>\n",
       "  </thead>\n",
       "  <tbody>\n",
       "    <tr>\n",
       "      <td>0</td>\n",
       "      <td>RT @R3Mitul: Yep yep\\nKohli will be avg this I...</td>\n",
       "      <td>Udit Panwar</td>\n",
       "      <td>7576</td>\n",
       "      <td>561</td>\n",
       "      <td>Muzaffarnagar, India</td>\n",
       "      <td>False</td>\n",
       "      <td>0</td>\n",
       "      <td>2785</td>\n",
       "      <td>2020-11-07 06:54:47</td>\n",
       "      <td>RT Yep yep Kohli will be avg this IPL CSK won ...</td>\n",
       "      <td>Positive</td>\n",
       "    </tr>\n",
       "  </tbody>\n",
       "</table>\n",
       "</div>"
      ],
      "text/plain": [
       "                                              Tweets         User  \\\n",
       "0  RT @R3Mitul: Yep yep\\nKohli will be avg this I...  Udit Panwar   \n",
       "\n",
       "  User_statuses_count user_followers         User_location User_verified  \\\n",
       "0                7576            561  Muzaffarnagar, India         False   \n",
       "\n",
       "  fav_count rt_count           tweet_date  \\\n",
       "0         0     2785  2020-11-07 06:54:47   \n",
       "\n",
       "                                         clean_tweet sentiment  \n",
       "0  RT Yep yep Kohli will be avg this IPL CSK won ...  Positive  "
      ]
     },
     "execution_count": 16,
     "metadata": {},
     "output_type": "execute_result"
    }
   ],
   "source": [
    "df.head(1)"
   ]
  },
  {
   "cell_type": "code",
   "execution_count": null,
   "metadata": {},
   "outputs": [],
   "source": []
  },
  {
   "cell_type": "code",
   "execution_count": null,
   "metadata": {},
   "outputs": [],
   "source": []
  }
 ],
 "metadata": {
  "kernelspec": {
   "display_name": "Python 3",
   "language": "python",
   "name": "python3"
  },
  "language_info": {
   "codemirror_mode": {
    "name": "ipython",
    "version": 3
   },
   "file_extension": ".py",
   "mimetype": "text/x-python",
   "name": "python",
   "nbconvert_exporter": "python",
   "pygments_lexer": "ipython3",
   "version": "3.7.4"
  }
 },
 "nbformat": 4,
 "nbformat_minor": 2
}
